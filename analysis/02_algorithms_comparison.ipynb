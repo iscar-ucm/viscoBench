{
 "cells": [
  {
   "cell_type": "markdown",
   "metadata": {},
   "source": [
    "# Algorithms Comparison thorugh Monte Carlo Analysis\n",
    "In the first script, an analysis of the effect of the parasite terms (capacitance, $C_1$, and resistance, $R_0$) is performed using the Monte Carlo technique. This way, many simulations are performed to analyze the effect of the variations or uncertainties in the parasite terms over the theoretical estimation of viscosity through the step signal response. \n",
    "\n",
    "In this second script, the same approach is followed but with the aim of comparing the response of different algorithms to, first, the same parasite terms, and second, to different input signals.\n",
    "\n",
    "The content of this notebook is the following:\n",
    "- Assignation of values for all the elements of the circuits and their uncertainty ranges.\n",
    "- Definition of all the equations involved in the analysis.\n",
    "- Definition of estimation algorithms / load of estimation models.\n",
    "- Monte Carlo analysis routine for parasite terms.\n",
    "- Monte Carlo analysis routine for input signals.\n",
    "- Results analysis."
   ]
  },
  {
   "cell_type": "code",
   "execution_count": 142,
   "metadata": {},
   "outputs": [],
   "source": [
    "import numpy as np\n",
    "from scipy.integrate import solve_ivp\n",
    "import matplotlib.pyplot as plt\n",
    "import pandas as pd\n",
    "from tqdm.notebook import tqdm\n",
    "\n",
    "from scipy import signal\n",
    "from sklearn import linear_model\n",
    "\n",
    "import pysindy as psdy\n",
    "\n",
    "from nfoursid.nfoursid import NFourSID as nfsid\n",
    "\n",
    "from sysidentpy.model_structure_selection import FROLS as sipFROLS\n",
    "from sysidentpy.basis_function._basis_function import Polynomial as sipPoly"
   ]
  },
  {
   "cell_type": "markdown",
   "metadata": {},
   "source": [
    "## 1. Elements of the circuit\n",
    "The simulated circuit is showing here:\n",
    "\n",
    "*Insert a diagram of the circuit*\n",
    "\n",
    "Each dictionary holds the required values to define the associated element of the circuit. Within the dictionary there is a list called `\"e_sources\"`, or error sources. This list will contain all the parameters to be randomly modified in the Monte Carlo analysis. To do so, the parameter must have an associated parameter `_e`, which defined the absolute error associated to the parameter.\n",
    "\n",
    "For example, if the diameter, `D`, of the first resistance, `R0`, must be analyzed, it must have an associated parameter `D_e`, defining the absolute uncertainty of that parameter. Also, `D` must be then included in the list `e_sources` of `R0`.\n",
    "\n",
    "**Note**: It is important to respect the nomenclature in the dictionary of parameters. If it is a resistive element, it must start by `R`. If it is capacitive, `C`. After the identificative number, use a low bar, `_`, for the second part of the name (e.g. `R0_params`)."
   ]
  },
  {
   "cell_type": "code",
   "execution_count": 143,
   "metadata": {},
   "outputs": [],
   "source": [
    "# Input resistance\n",
    "elements = {\n",
    "    \"R0_params\": {\n",
    "        \"D\": 500e-6,\n",
    "        \"L\": 125e-2, # 25e-2\n",
    "        \"e_sources\": [],\n",
    "        \"e\": {\n",
    "            \"D_e\": 50e-6,\n",
    "            \"L_e\": 1e-3\n",
    "        }\n",
    "    },\n",
    "\n",
    "    # First RC Branch\n",
    "    \"R1_params\": {\n",
    "        \"D\": 150e-6,\n",
    "        \"L\": 10e-2,\n",
    "        \"e_sources\": [],\n",
    "        \"e\": {\n",
    "            \"D_e\": 15e-6,\n",
    "            \"L_e\": 1e-3\n",
    "        }\n",
    "    },\n",
    "    \"C1_params\": {\n",
    "        \"D\": 2e-3,\n",
    "        \"L\": 1.0e-2,\n",
    "        \"E\": 10e6,\n",
    "        \"t\": 0.75e-3,\n",
    "        \"beta\": 2.5e9,\n",
    "        \"e_sources\": [\"L\"],\n",
    "        \"e\": {\n",
    "            \"D_e\": 0.0,\n",
    "            \"L_e\": 0.5e-2\n",
    "        }\n",
    "    },\n",
    "\n",
    "    # Second RC branch\n",
    "    \"R2_params\": {\n",
    "        \"D\": 150e-6,\n",
    "        \"L\": 10e-2,\n",
    "        \"e_sources\": [],\n",
    "        \"e\": {\n",
    "            \"D_e\": 15e-6,\n",
    "            \"L_e\": 1e-3\n",
    "        }\n",
    "    },\n",
    "    \"C2_params\": {\n",
    "        \"D\": 2e-3,\n",
    "        \"L\": 10e-2,\n",
    "        \"E\": 10e6,\n",
    "        \"t\": 0.75e-3,\n",
    "        \"beta\": 2.5e9,\n",
    "        \"e_sources\": [],\n",
    "        \"e\": {\n",
    "            \"D_e\": 5e-4,\n",
    "            \"L_e\": 1e-3\n",
    "        }\n",
    "    },\n",
    "}"
   ]
  },
  {
   "cell_type": "code",
   "execution_count": 144,
   "metadata": {},
   "outputs": [
    {
     "name": "stdout",
     "output_type": "stream",
     "text": [
      "{'R0_params': {'D': (0.0005, 0.0005), 'L': (1.25, 1.25)}, 'R1_params': {'D': (0.00015, 0.00015), 'L': (0.1, 0.1)}, 'C1_params': {'E': (10000000.0, 10000000.0), 'beta': (2500000000.0, 2500000000.0), 't': (0.00075, 0.00075), 'D': (0.002, 0.002), 'L': (0.005, 0.015)}, 'R2_params': {'D': (0.00015, 0.00015), 'L': (0.1, 0.1)}, 'C2_params': {'E': (10000000.0, 10000000.0), 'beta': (2500000000.0, 2500000000.0), 't': (0.00075, 0.00075), 'D': (0.002, 0.002), 'L': (0.1, 0.1)}}\n"
     ]
    }
   ],
   "source": [
    "# Use the above dictionaries to define the ranges\n",
    "ranges_dict = {}\n",
    "for ky, element in elements.items():\n",
    "    ranges_dict[ky] = {}\n",
    "    for param in set(element.keys())-set([\"e_sources\", \"e\"]):\n",
    "        if param in element[\"e_sources\"]:\n",
    "            ranges_dict[ky][param] = (element[param] - element[\"e\"][param+\"_e\"],\n",
    "                                      element[param] + element[\"e\"][param+\"_e\"])\n",
    "        else: \n",
    "            ranges_dict[ky][param] = (element[param], element[param])\n",
    "\n",
    "print(ranges_dict)"
   ]
  },
  {
   "cell_type": "markdown",
   "metadata": {},
   "source": [
    "## 2. Equations"
   ]
  },
  {
   "cell_type": "markdown",
   "metadata": {},
   "source": [
    "### Input Signals"
   ]
  },
  {
   "cell_type": "code",
   "execution_count": 145,
   "metadata": {},
   "outputs": [],
   "source": [
    "def constant_signal(t, A=1.0, k=1.0):\n",
    "    return A\n",
    "\n",
    "def sinusoidal_signal(t, A=1.0, k=1.0):\n",
    "    return A*np.sin(k*t)\n",
    "\n",
    "def triangular_signal(t, A=1.0, k=0.5):\n",
    "    return A*(signal.sawtooth(2*np.pi*k*t, 0.5)+1.0) / 2"
   ]
  },
  {
   "cell_type": "markdown",
   "metadata": {},
   "source": [
    "### Physical Equations"
   ]
  },
  {
   "cell_type": "code",
   "execution_count": 146,
   "metadata": {},
   "outputs": [],
   "source": [
    "class calc_water_viscosity:\n",
    "    \"\"\"\n",
    "    Calculates the viscosity at some temperature, in Kelvin.\n",
    "\n",
    "    This is a functor, so it must first be declared (changing the parameters if\n",
    "    needed), and, after that, it can be called as any other function.\n",
    "    \"\"\"\n",
    "    def __init__(self, A=2.414e-5, B=247.8, C=140):\n",
    "        self.A = A\n",
    "        self.B = B\n",
    "        self.C = C\n",
    "    def __call__(self, temp_K):\n",
    "        return self.A * 10 ** (self.B / (temp_K - self.C))\n",
    "\n",
    "def calc_cil_resistance(D, L, visc):\n",
    "    \"\"\"\n",
    "    Calculates the hydraulic resistance for a cylindrical tube,\n",
    "    for a given viscosity.\n",
    "    \"\"\"\n",
    "    return 8*visc*L / (np.pi*((D/2)**4))\n",
    "\n",
    "def calc_cil_capacitance(D, L, beta, E, t):\n",
    "    \"\"\"\n",
    "    Calculates the theoretical capacitance of a cylindrical tube.\n",
    "    \"\"\"\n",
    "    # Beta := Bulk Modulus of Water\n",
    "    V0 = np.pi*(D/2)**2 * L\n",
    "    return (V0 / beta)*( 1 + ((beta*D)/(E*t)) )\n",
    "\n",
    "def circuit_dyn_eqs(t, dP, args): # R0, R1, R2, C1, C2, Pin\n",
    "    \"\"\"\n",
    "    Calcualtes the differential values of pressure drop over the\n",
    "    two RC branches of the circuit.\n",
    "    \"\"\"\n",
    "    P1, P2 = dP # Integration of previous dP1, dP2\n",
    "    R0 = args[\"R0\"]\n",
    "    R1 = args[\"R1\"]\n",
    "    R2 = args[\"R2\"]\n",
    "    C1 = args[\"C1\"]\n",
    "    C2 = args[\"C2\"] \n",
    "    # Pin = args[\"Pin\"]\n",
    "    Pin = args[\"Pin\"](t)\n",
    "\n",
    "    dP1 = (Pin - P1)/(R0 * C1) - P1 / (R1 * C1)\n",
    "    dP2 = (P1 - P2)/(R2 * C2)\n",
    "    return [dP1, dP2]\n"
   ]
  },
  {
   "cell_type": "markdown",
   "metadata": {},
   "source": [
    "## 3. Estimation Algorithms\n",
    "There are six compared viscosity estimation algorithms: two based on classical techniques (N4SID and SINDy), and four based on deep learning techniques. Within the deep learning models, one is based on Convolutional Neural Networks (CNN), and the other is based on Long-Short Term Memory (LSTM) networks. The two remaining deep learning models are the quantized versions of the CNN and LSTM based models. This is done in this way such that classical techniques, which are easily implemented as embedded software, can be benchmarked under the conditions that the deep learning techniques would have as embedded software. \n",
    "\n",
    "- One observed limitation for SINDy is its dependence on the data points. If it is small, the quality of the discovered models (and the coefficients) can be very poor when compared with other techniques."
   ]
  },
  {
   "cell_type": "code",
   "execution_count": 147,
   "metadata": {},
   "outputs": [],
   "source": [
    "from typing import Any\n",
    "\n",
    "\n",
    "def estimate_visc(t, P2_t, R2, C2, visc):\n",
    "    \"\"\"\n",
    "    Estimates the viscosity from an step response of the target \n",
    "    microfluidic RC circuit. It assumes that there is not noise.\n",
    "\n",
    "    The viscosity is asked as argument because R2 is assumed to \n",
    "    contain the viscosity. \n",
    "    \"\"\"\n",
    "    P_ss = P2_t[-1]\n",
    "    if np.abs(P2_t[-1]-P2_t[-2]) > np.abs(0.02*P2_t[-1]):\n",
    "        print(\"W: steady state value was not steady calculating visc.\")\n",
    "    P_tau = 0.632 * P_ss\n",
    "    # Get closest time, t\n",
    "    tau = t[ np.argmin(np.abs(np.subtract(P2_t, P_tau))) ]\n",
    "\n",
    "    Rg = R2 / visc\n",
    "    return tau / (Rg*C2)\n",
    "\n",
    "class estimate_visc_sindy:\n",
    "    def __init__(self) -> None:\n",
    "        self.model = psdy.SINDy()\n",
    "\n",
    "    def __call__(self, t, P1_t, P2_t):\n",
    "        self.model.fit(P2_t, u=P1_t, t=t[1]-t[0])\n",
    "        # Get tau as the mean estimated from both variables\n",
    "        # Model: dP2/dt = tau_a*P1 - tau_b*P2 -> tau = (tau_a+tau_b)/2\n",
    "        return 1/np.mean(np.abs(self.model.coefficients()[0][1:3]))\n",
    "\n",
    "class estimate_visc_n4sid:\n",
    "    def __init__(self) -> None:\n",
    "        self.ident = nfsid(\n",
    "            pd.DataFrame(), \n",
    "            output_columns=[]\n",
    "        )\n",
    "        self.order = 1\n",
    "\n",
    "    def __call__(self, t, P1_t, P2_t):\n",
    "        self.ident.u_array = np.reshape(P1_t, [np.shape(P1_t)[0], 1])\n",
    "        self.ident.u_dim = np.shape(self.ident.u_array)[1]\n",
    "        self.ident.y_array = np.reshape(P2_t, [np.shape(P2_t)[0], 1])\n",
    "        self.ident.y_dim = np.shape(self.ident.y_array)[1]\n",
    "\n",
    "        self.ident.subspace_identification()\n",
    "\n",
    "        ORDER_OF_MODEL_TO_FIT = 1\n",
    "        identified_sys, cov_matrix = \\\n",
    "            self.ident.system_identification( rank=self.order )\n",
    "        # print(identified_sys.a)\n",
    "        # print(identified_sys.b)\n",
    "        # print(identified_sys.c)\n",
    "        # print(identified_sys.d)\n",
    "        # Fron discrete to continuous\n",
    "        incT = t[1]-t[0]\n",
    "        tau1 = incT / (1-identified_sys.a[0][0])\n",
    "        tau2 = incT / identified_sys.d[0][0]\n",
    "        print(tau1, tau2)\n",
    "        return tau1 # np.mean(np.abs([tau1, tau2]))\n",
    "\n",
    "class estimate_visc_forl:\n",
    "    def __init__(self) -> None:\n",
    "        self.model = sipFROLS(\n",
    "            order_selection=True,\n",
    "            n_info_values=10,\n",
    "            extended_least_squares=False,\n",
    "            ylag=1,\n",
    "            xlag=1,\n",
    "            info_criteria='aic',\n",
    "            estimator=\"least_squares\",\n",
    "            basis_function=sipPoly(degree=1),\n",
    "        )\n",
    "\n",
    "    def __call__(self, t, P1_t, P2_t):\n",
    "        x = np.reshape(P1_t, [np.shape(P1_t)[0], 1])\n",
    "        y = np.reshape(P2_t, [np.shape(P2_t)[0], 1])\n",
    "\n",
    "        self.model.fit(X=x, y=y)\n",
    "\n",
    "        # The ARMAX model is discrete, it's necessary to recover\n",
    "        # the time constant, tau, from it.\n",
    "        incT = t[1]-t[0]\n",
    "        tau1 = incT / (1-self.model.theta[0])\n",
    "        tau2 = incT / self.model.theta[2]\n",
    "        # print(model.theta)\n",
    "        # print(tau1, tau2)\n",
    "        return np.mean(np.abs([tau1, tau2]))"
   ]
  },
  {
   "cell_type": "code",
   "execution_count": 148,
   "metadata": {},
   "outputs": [
    {
     "name": "stderr",
     "output_type": "stream",
     "text": [
      "c:\\Users\\Juan\\AppData\\Local\\Programs\\Python\\Python310\\lib\\site-packages\\sysidentpy\\utils\\deprecation.py:40: FutureWarning: Passing a string to define the estimator will rise an error in v0.4.0. \n",
      " You'll have to use FROLS(estimator=LeastSquares()) instead. \n",
      " The only change is that you'll have to define the estimator first instead of passing a string like 'least_squares'. \n",
      " This change will make easier to implement new estimators and it'll improve code readability.\n",
      "  warnings.warn(message, FutureWarning, stacklevel=1)\n"
     ]
    }
   ],
   "source": [
    "# Encapsulate all algorithms inside a dictionary\n",
    "alg_dict = {\n",
    "    \"sindy\": estimate_visc_sindy(),\n",
    "    \"n4sid\": estimate_visc_n4sid(),\n",
    "    \"forl\": estimate_visc_forl()\n",
    "}"
   ]
  },
  {
   "cell_type": "markdown",
   "metadata": {},
   "source": [
    "## 4. Monte Carlo Analysis - Parasite Terms\n",
    "For each of the element of the circuit, there are some defined ranges of values that the element can take. The objective of this analysis is to study how much will affect each of the variations to the output estimation of viscosity.\n",
    "\n",
    "The analysis is performed by running a large number of simulations (proportional to the complexity of the system and the number of uncertain variables), propagating each variation to an objective value. For example, if the uncertainty source is one dimension of a resistance, the resistance will be calculated for each simulation with a dimension randomly chosen within the defined range. For each simulation, the viscosity will be calculated. The variation at viscosity is then compared with the variation of the input parameter, producing a sensibility estimation between both of them.\n",
    "\n",
    "In this case, the objective parameter is the parasite capacitance, although the rest of the parameters can be analyzed with this same setup."
   ]
  },
  {
   "cell_type": "code",
   "execution_count": 149,
   "metadata": {},
   "outputs": [
    {
     "data": {
      "application/vnd.jupyter.widget-view+json": {
       "model_id": "4c7062b717994dbcb55ec77b1dd8db71",
       "version_major": 2,
       "version_minor": 0
      },
      "text/plain": [
       "  0%|          | 0/2 [00:00<?, ?it/s]"
      ]
     },
     "metadata": {},
     "output_type": "display_data"
    },
    {
     "name": "stdout",
     "output_type": "stream",
     "text": [
      "0.5553234774657216 1.9804414410950106\n"
     ]
    },
    {
     "name": "stderr",
     "output_type": "stream",
     "text": [
      "c:\\Users\\Juan\\AppData\\Local\\Programs\\Python\\Python310\\lib\\site-packages\\sysidentpy\\narmax_base.py:1043: RuntimeWarning: divide by zero encountered in divide\n",
      "  x = x[1:] / aux_b\n",
      "c:\\Users\\Juan\\AppData\\Local\\Programs\\Python\\Python310\\lib\\site-packages\\sysidentpy\\narmax_base.py:1071: RuntimeWarning: invalid value encountered in multiply\n",
      "  w = b * np.dot(RA.T, v)\n"
     ]
    },
    {
     "name": "stdout",
     "output_type": "stream",
     "text": [
      "0.5552329347492192 2.075506992587715\n"
     ]
    },
    {
     "name": "stderr",
     "output_type": "stream",
     "text": [
      "c:\\Users\\Juan\\AppData\\Local\\Programs\\Python\\Python310\\lib\\site-packages\\sysidentpy\\narmax_base.py:1043: RuntimeWarning: divide by zero encountered in divide\n",
      "  x = x[1:] / aux_b\n",
      "c:\\Users\\Juan\\AppData\\Local\\Programs\\Python\\Python310\\lib\\site-packages\\sysidentpy\\narmax_base.py:1071: RuntimeWarning: invalid value encountered in multiply\n",
      "  w = b * np.dot(RA.T, v)\n"
     ]
    }
   ],
   "source": [
    "Pin = 20e4 # Pressure input in Pa: 20e4 Pa = 2000 mbar\n",
    "\n",
    "t_sim = 5 # Must be large enough to reach steady state\n",
    "t_points = 1000 # This affects to the accuracy estimating tau\n",
    "N = 2 # Number of simulations\n",
    "\n",
    "temp_C = 28.65 # In Celsius\n",
    "temp_K = temp_C + 273.15\n",
    "\n",
    "\n",
    "visc_calc = calc_water_viscosity()\n",
    "visc = visc_calc(temp_K)\n",
    "\n",
    "results = {}\n",
    "for ky in ranges_dict.keys():\n",
    "    results[ky.split(\"_\")[0]] = []\n",
    "for alg_name in alg_dict.keys():\n",
    "    results[alg_name+\"_est_visc\"] = []\n",
    "    results[alg_name+\"_tau2\"] = []\n",
    "\n",
    "for n in tqdm(range(N)): # For progress bar\n",
    "    # Get the values of the parameters\n",
    "    # sim_params = { \"Pin\": Pin }\n",
    "    sim_params = { \"Pin\": triangular_signal }\n",
    "\n",
    "    for ky, element_ranges in ranges_dict.items():\n",
    "        # Extract the random values for the parameters\n",
    "        args = {}\n",
    "        for param, param_ranges in element_ranges.items():\n",
    "            args[param] = np.max([0.0, np.random.uniform(*param_ranges)])\n",
    "        # Resistance\n",
    "        if ky[0] == \"R\":\n",
    "            sim_params[ky.split(\"_\")[0]] = calc_cil_resistance(**args, visc=visc)\n",
    "        # Capacitance\n",
    "        elif ky[0] == \"C\":\n",
    "            sim_params[ky.split(\"_\")[0]] = calc_cil_capacitance(**args)\n",
    "        else: \n",
    "            print(\"Error: element {} not recognized\".format(ky))\n",
    "            exit()\n",
    "        \n",
    "    # Perform the simulation\n",
    "    sol = solve_ivp(circuit_dyn_eqs, [0, t_sim], [0, 0], args=(sim_params,), \n",
    "                    dense_output=True)\n",
    "    \n",
    "    # Save the results\n",
    "    t = np.linspace(0, t_sim, t_points)\n",
    "    P1_t = sol.sol(t)[0]\n",
    "    P2_t = sol.sol(t)[1]\n",
    "\n",
    "    # If you want to print some curves, don't make N very large\n",
    "    # plt.plot(t, P2_t)\n",
    "    # plt.plot(t, P1_t)\n",
    "    # plt.show()\n",
    "\n",
    "    for alg_name in alg_dict.keys():\n",
    "        # Estimate viscosity\n",
    "        R2g = sim_params[\"R2\"] / visc\n",
    "        tau2 = alg_dict[alg_name](t, P1_t, P2_t)\n",
    "        est_visc = tau2 / (R2g*sim_params[\"C2\"])\n",
    "        # Save the results\n",
    "        results[alg_name+\"_tau2\"].append(tau2)\n",
    "        results[alg_name+\"_est_visc\"].append(est_visc)\n",
    "\n",
    "    # Update the results dict\n",
    "    for ky in ranges_dict.keys():\n",
    "        results[ky.split(\"_\")[0]].append( sim_params[ky.split(\"_\")[0]] )\n",
    "\n",
    "res_df = pd.DataFrame.from_dict(results)"
   ]
  },
  {
   "cell_type": "markdown",
   "metadata": {},
   "source": [
    "## 4. Results Analysis\n",
    "The calculated stats are the following:\n",
    "- Mean $C_1$ to mean $C_2$ ratio: Percentage that mean $C_1$ suposses to mean $C_2$. This is, how big is (average) parasite capacitance, $C_1$, compared to the main measurement capacitance, $C_2$.\n",
    "- $C_1$ approx. perc. deviation: Percentage that indicates how much $C_1$ varies from its mean value along the Monte Carlo analysis.\n",
    "- Est. viscosity approx. perc. deviation: How much the estimated viscosity varies from its mean value when varying the input values. This indicates how sensible it is to the change in the, in this case, parasite capacitance.\n",
    "- Est. viscosity MAE: Mean Absolute Error of the viscosity estimation with respect to the real value of viscosity.\n",
    "\n",
    "### How to interpret the values?\n",
    "If a high variation of the parasite capacitance, $C_1$, produces a small variation of the estimated viscosity deviation, it means that the sensibility of the calculation is low. This is, the parasite capacitance doesn't affect much to its **precision**. To complete the analysis, it must be observed if it affects to the **accuracy** of the estimation. For example, it could induce an offset that is constant (precision wouldn't be affected), but makes the mean value of the estimate deviate from the real value. This is done by calculating the MAE, which should also remain low for \"big\" parasite capacitances.\n",
    "\n",
    "It can be observed that the effect of the parasite capacitance, $C_1$, alone is low. This is because the problems comes with the time response of the parasite capacitance, and not only the capacitance itself. This means that $R_0$ is also important in this analysis. If this resistance is high, $C_1$ takes more time to fill up, affecting negatively to the estimate of viscosity."
   ]
  },
  {
   "cell_type": "code",
   "execution_count": 150,
   "metadata": {},
   "outputs": [
    {
     "name": "stdout",
     "output_type": "stream",
     "text": [
      "Real viscosity: 8.20838e-04\n",
      "Mean values:\n",
      "R0                6.688793e+11\n",
      "R1                6.606215e+12\n",
      "C1                4.813852e-15\n",
      "R2                6.606215e+12\n",
      "C2                8.390147e-14\n",
      "sindy_est_visc    8.210138e-04\n",
      "sindy_tau2        5.543896e-01\n",
      "n4sid_est_visc    8.223298e-04\n",
      "n4sid_tau2        5.552782e-01\n",
      "forl_est_visc     8.181031e-04\n",
      "forl_tau2         5.524242e-01\n",
      "dtype: float64\n",
      "\n",
      "Standard Deviation values:\n",
      "R0                0.000000e+00\n",
      "R1                0.000000e+00\n",
      "C1                6.792940e-17\n",
      "R2                0.000000e+00\n",
      "C2                0.000000e+00\n",
      "sindy_est_visc    2.400245e-09\n",
      "sindy_tau2        1.620765e-06\n",
      "n4sid_est_visc    9.481431e-08\n",
      "n4sid_tau2        6.402337e-05\n",
      "forl_est_visc     3.284922e-10\n",
      "forl_tau2         2.218143e-07\n",
      "dtype: float64\n",
      "\n",
      "Mean C1 to mean C2 ratio: 5.738 %\n",
      "C1 approx. perc. deviation: 1.411 %\n",
      "\n",
      "Algorithm: sindy\n",
      "[Precision] Est. viscosity approx. perc. deviation: 0.000 %\n",
      "[Accuracy]  Est. viscosity MAE: 0.021 %\n",
      "\n",
      "Algorithm: n4sid\n",
      "[Precision] Est. viscosity approx. perc. deviation: 0.012 %\n",
      "[Accuracy]  Est. viscosity MAE: 0.182 %\n",
      "\n",
      "Algorithm: forl\n",
      "[Precision] Est. viscosity approx. perc. deviation: 0.000 %\n",
      "[Accuracy]  Est. viscosity MAE: 0.333 %\n"
     ]
    }
   ],
   "source": [
    "print(\"Real viscosity: {:.5e}\".format(visc))\n",
    "\n",
    "# print(res_df)\n",
    "\n",
    "print(\"Mean values:\")\n",
    "print(res_df.mean())\n",
    "\n",
    "print(\"\\nStandard Deviation values:\")\n",
    "print(res_df.std())\n",
    "\n",
    "# Inputs variations\n",
    "print(\"\\nMean C1 to mean C2 ratio: {:.3f} %\".format(\n",
    "    (1-np.abs((res_df[\"C1\"].mean() - res_df[\"C2\"].mean()) \\\n",
    "           / res_df[\"C2\"].mean())) * 100\n",
    "))\n",
    "print(\"C1 approx. perc. deviation: {:.3f} %\".format(\n",
    "    res_df[\"C1\"].std() / res_df[\"C1\"].mean() * 100\n",
    "))\n",
    "\n",
    "for alg_name in alg_dict.keys():\n",
    "    print(\"\\nAlgorithm: {}\".format(alg_name))\n",
    "    # Standard deviation for est. visc. in percentage\n",
    "    print(\"[Precision] Est. viscosity approx. perc. deviation: {:.3f} %\".format(\n",
    "        res_df[alg_name+\"_est_visc\"].std() / res_df[alg_name+\"_est_visc\"].mean() * 100\n",
    "    ))\n",
    "    # Mean estimation difference to real viscosity\n",
    "    print(\"[Accuracy]  Est. viscosity MAE: {:.3f} %\".format(\n",
    "        np.abs((visc - res_df[alg_name+\"_est_visc\"].mean()) / visc) * 100\n",
    "    ))"
   ]
  },
  {
   "cell_type": "markdown",
   "metadata": {},
   "source": [
    "### Results\n",
    "\n",
    "1. How well the algorithms estimate the viscosity?\n",
    "2. What is their robustness to parasite terms?\n",
    "3. What is their robustness against noise?"
   ]
  },
  {
   "cell_type": "markdown",
   "metadata": {},
   "source": []
  }
 ],
 "metadata": {
  "kernelspec": {
   "display_name": "Python 3",
   "language": "python",
   "name": "python3"
  },
  "language_info": {
   "codemirror_mode": {
    "name": "ipython",
    "version": 3
   },
   "file_extension": ".py",
   "mimetype": "text/x-python",
   "name": "python",
   "nbconvert_exporter": "python",
   "pygments_lexer": "ipython3",
   "version": "3.10.0"
  }
 },
 "nbformat": 4,
 "nbformat_minor": 2
}
