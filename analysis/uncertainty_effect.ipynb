{
 "cells": [
  {
   "cell_type": "markdown",
   "metadata": {},
   "source": [
    "# Uncertainty Analysis over Viscosity Calculation\n",
    "The following cells serve for performing simulations with which the uncertainty coming from the different elements of the circuit,as well as the measurements from the sensors and other parasite effects, is analyzed.\n",
    "\n",
    "The effect of these defects is studied for the step response situation. When a step signal is inserted into the system, it is assumed that this will have an exponential response until it stabilizes in some steady state values. The defects on the elements and other parasite effects (resistances or capacities not included in the analytical model) will have an impact over the real response of the system, affecting the final viscosity estimation.\n",
    "\n",
    "The content of this notebook is the following:\n",
    "- Assignation of values for all the elements of the circuits and their uncertainty ranges.\n",
    "- Definition of all the equations involved in the analysis.\n",
    "- Definition of the simulation rutine.\n",
    "- Monte Carlo analysis routine.\n",
    "- Results analysis."
   ]
  },
  {
   "cell_type": "code",
   "execution_count": 1,
   "metadata": {},
   "outputs": [],
   "source": [
    "import numpy as np\n",
    "from scipy.integrate import solve_ivp\n",
    "import matplotlib.pyplot as plt\n",
    "import pandas as pd\n",
    "from tqdm.notebook import tqdm"
   ]
  },
  {
   "cell_type": "markdown",
   "metadata": {},
   "source": [
    "## 1. Elements of the circuit\n",
    "The simulated circuit is showing here:\n",
    "\n",
    "*Insert a diagram of the circuit*\n",
    "\n",
    "Each dictionary holds the required values to define the associated element of the circuit. Within the dictionary there is a list called `\"e_sources\"`, or error sources. This list will contain all the parameters to be randomly modified in the Monte Carlo analysis. To do so, the parameter must have an associated parameter `_e`, which defined the absolute error associated to the parameter.\n",
    "\n",
    "For example, if the diameter, `D`, of the first resistance, `R0`, must be analyzed, it must have an associated parameter `D_e`, defining the absolute uncertainty of that parameter. Also, `D` must be then included in the list `e_sources` of `R0`.\n",
    "\n",
    "**Note**: It is important to respect the nomenclature in the dictionary of parameters. If it is a resistive element, it must start by `R`. If it is capacitive, `C`. After the identificative number, use a low bar, `_`, for the second part of the name (e.g. `R0_params`)."
   ]
  },
  {
   "cell_type": "code",
   "execution_count": 2,
   "metadata": {},
   "outputs": [],
   "source": [
    "temp_C = 25.65 # In Celsius\n",
    "temp_K = temp_C + 273.15\n",
    "\n",
    "# Input resistance\n",
    "elements = {\n",
    "    \"R0_params\": {\n",
    "        \"D\": 500e-6,\n",
    "        \"L\": 25e-2,\n",
    "        \"e_sources\": [],\n",
    "        \"e\": {\n",
    "            \"D_e\": 50e-6,\n",
    "            \"L_e\": 1e-3\n",
    "        }\n",
    "    },\n",
    "\n",
    "    # First RC Branch\n",
    "    \"R1_params\": {\n",
    "        \"D\": 150e-6,\n",
    "        \"L\": 10e-2,\n",
    "        \"e_sources\": [],\n",
    "        \"e\": {\n",
    "            \"D_e\": 15e-6,\n",
    "            \"L_e\": 1e-3\n",
    "        }\n",
    "    },\n",
    "    \"C1_params\": {\n",
    "        \"D\": 2e-3,\n",
    "        \"L\": 2.5e-2,\n",
    "        \"E\": 10e6,\n",
    "        \"t\": 0.75e-3,\n",
    "        \"beta\": 2.5e9,\n",
    "        \"e_sources\": [\"L\"],\n",
    "        \"e\": {\n",
    "            \"D_e\": 0.0,\n",
    "            \"L_e\": 1.5e-2\n",
    "        }\n",
    "    },\n",
    "\n",
    "    # Second RC branch\n",
    "    \"R2_params\": {\n",
    "        \"D\": 150e-6,\n",
    "        \"L\": 10e-2,\n",
    "        \"e_sources\": [],\n",
    "        \"e\": {\n",
    "            \"D_e\": 15e-6,\n",
    "            \"L_e\": 1e-3\n",
    "        }\n",
    "    },\n",
    "    \"C2_params\": {\n",
    "        \"D\": 2e-3,\n",
    "        \"L\": 10e-2,\n",
    "        \"E\": 10e6,\n",
    "        \"t\": 0.75e-3,\n",
    "        \"beta\": 2.5e9,\n",
    "        \"e_sources\": [],\n",
    "        \"e\": {\n",
    "            \"D_e\": 5e-4,\n",
    "            \"L_e\": 1e-3\n",
    "        }\n",
    "    },\n",
    "}"
   ]
  },
  {
   "cell_type": "code",
   "execution_count": 3,
   "metadata": {},
   "outputs": [
    {
     "name": "stdout",
     "output_type": "stream",
     "text": [
      "{'R0_params': {'D': (0.0005, 0.0005), 'L': (0.25, 0.25)}, 'R1_params': {'D': (0.00015, 0.00015), 'L': (0.1, 0.1)}, 'C1_params': {'D': (0.002, 0.002), 'beta': (2500000000.0, 2500000000.0), 'E': (10000000.0, 10000000.0), 'L': (0.010000000000000002, 0.04), 't': (0.00075, 0.00075)}, 'R2_params': {'D': (0.00015, 0.00015), 'L': (0.1, 0.1)}, 'C2_params': {'D': (0.002, 0.002), 'beta': (2500000000.0, 2500000000.0), 'E': (10000000.0, 10000000.0), 'L': (0.1, 0.1), 't': (0.00075, 0.00075)}}\n"
     ]
    }
   ],
   "source": [
    "# Use the above dictionaries to define the ranges\n",
    "ranges_dict = {}\n",
    "for ky, element in elements.items():\n",
    "    ranges_dict[ky] = {}\n",
    "    for param in set(element.keys())-set([\"e_sources\", \"e\"]):\n",
    "        if param in element[\"e_sources\"]:\n",
    "            ranges_dict[ky][param] = (element[param] - element[\"e\"][param+\"_e\"],\n",
    "                                      element[param] + element[\"e\"][param+\"_e\"])\n",
    "        else: \n",
    "            ranges_dict[ky][param] = (element[param], element[param])\n",
    "\n",
    "print(ranges_dict)"
   ]
  },
  {
   "cell_type": "markdown",
   "metadata": {},
   "source": [
    "## 2. Equations"
   ]
  },
  {
   "cell_type": "code",
   "execution_count": 4,
   "metadata": {},
   "outputs": [],
   "source": [
    "class calc_water_viscosity:\n",
    "    \"\"\"\n",
    "    Calculates the viscosity at some temperature, in Kelvin.\n",
    "    \"\"\"\n",
    "    def __init__(self, A=2.414e-5, B=247.8, C=140):\n",
    "        self.A = A\n",
    "        self.B = B\n",
    "        self.C = C\n",
    "    def __call__(self, temp_K):\n",
    "        return self.A * 10 ** (self.B / (temp_K - self.C))\n",
    "\n",
    "def calc_cil_resistance(D, L, visc):\n",
    "    \"\"\"\n",
    "    Calculates the hydraulic resistance for a cylindrical tube,\n",
    "    for a given viscosity.\n",
    "    \"\"\"\n",
    "    return 8*visc*L / (np.pi*((D/2)**4))\n",
    "\n",
    "def calc_cil_capacitance(D, L, beta, E, t):\n",
    "    \"\"\"\n",
    "    Calculates the theoretical capacitance of a cylindrical tube.\n",
    "    \"\"\"\n",
    "    # Beta := Bulk Modulus of Water\n",
    "    V0 = np.pi*(D/2)**2 * L\n",
    "    return (V0 / beta)*( 1 + ((beta*D)/(E*t)) )\n",
    "\n",
    "def circuit_dyn_eqs(t, dP, args): # R0, R1, R2, C1, C2, Pin\n",
    "    \"\"\"\n",
    "    Calcualtes the differential values of pressure drop over the\n",
    "    two RC branches of the circuit.\n",
    "    \"\"\"\n",
    "    P1, P2 = dP # Integration of previous dP1, dP2\n",
    "    R0 = args[\"R0\"]\n",
    "    R1 = args[\"R1\"]\n",
    "    R2 = args[\"R2\"]\n",
    "    C1 = args[\"C1\"]\n",
    "    C2 = args[\"C2\"] \n",
    "    Pin = args[\"Pin\"]\n",
    "\n",
    "    dP1 = (Pin - P1)/(R0 * C1) - P1 / (R1 * C1)\n",
    "    dP2 = P1/(R2 * C2) - P2/(R2 * C2)\n",
    "\n",
    "    return [dP1, dP2]\n",
    "\n",
    "def estimate_visc(t, P2_t, R2, C2, visc):\n",
    "    \"\"\"\n",
    "    Estimates the viscosity from an step response of the target \n",
    "    microfluidic RC circuit. It assumes that there is not noise.\n",
    "\n",
    "    The viscosity is asked as argument because R2 is assumed to \n",
    "    contain the viscosity. \n",
    "    \"\"\"\n",
    "    P_ss = P2_t[-1]\n",
    "    if np.abs(P2_t[-1]-P2_t[-2]) > np.abs(0.02*P2_t[-1]):\n",
    "        print(\"W: steady state value was not steady calculating visc.\")\n",
    "    P_tau = 0.632 * P_ss\n",
    "    # Get closest time, t\n",
    "    tau = t[ np.argmin(np.abs(np.subtract(P2_t, P_tau))) ]\n",
    "\n",
    "    Rg = R2 / visc\n",
    "    return tau / (Rg*C2)\n"
   ]
  },
  {
   "cell_type": "markdown",
   "metadata": {},
   "source": [
    "## 3. Monte Carlo Analysis\n",
    "For each of the element of the circuit, there are some defined ranges of values that the element can take. The objective of this analysis is to study how much will affect each of the variations to the output estimation of viscosity.\n",
    "\n",
    "The analysis is performed by running a large number of simulations (proportional to the complexity of the system and the number of uncertain variables), propagating each variation to an objective value. For example, if the uncertainty source is one dimension of a resistance, the resistance will be calculated for each simulation with a dimension randomly chosen within the defined range. For each simulation, the viscosity will be calculated. The variation at viscosity is then compared with the variation of the input parameter, producing a sensibility estimation between both of them.\n",
    "\n",
    "In this case, the objective parameter is the parasite capacitance, although the rest of the parameters can be analyzed with this same setup."
   ]
  },
  {
   "cell_type": "code",
   "execution_count": 5,
   "metadata": {},
   "outputs": [
    {
     "data": {
      "application/vnd.jupyter.widget-view+json": {
       "model_id": "2431002e1c5144419a41ce3bbab3b336",
       "version_major": 2,
       "version_minor": 0
      },
      "text/plain": [
       "  0%|          | 0/5000 [00:00<?, ?it/s]"
      ]
     },
     "metadata": {},
     "output_type": "display_data"
    }
   ],
   "source": [
    "Pin = 20e5 # Pressure input\n",
    "\n",
    "t_sim = 5 # Must be large enough to reach steady state\n",
    "t_points = 500 # This affects to the accuracy estimating tau\n",
    "N = 1000 # Number of simulations\n",
    "\n",
    "\n",
    "visc_calc = calc_water_viscosity()\n",
    "visc = visc_calc(temp_K)\n",
    "\n",
    "results = {}\n",
    "for ky in ranges_dict.keys():\n",
    "    results[ky.split(\"_\")[0]] = []\n",
    "results[\"est_visc\"] = []\n",
    "\n",
    "for n in tqdm(range(N)): # For progress bar\n",
    "    # Get the values of the parameters\n",
    "    sim_params = { \"Pin\": Pin }\n",
    "    for ky, element_ranges in ranges_dict.items():\n",
    "        # Extract the random values for the parameters\n",
    "        args = {}\n",
    "        for param, param_ranges in element_ranges.items():\n",
    "            args[param] = np.max([0.0, np.random.uniform(*param_ranges)])\n",
    "        # Resistance\n",
    "        if ky[0] == \"R\":\n",
    "            sim_params[ky.split(\"_\")[0]] = calc_cil_resistance(**args, visc=visc)\n",
    "        # Capacitance\n",
    "        elif ky[0] == \"C\":\n",
    "            sim_params[ky.split(\"_\")[0]] = calc_cil_capacitance(**args)\n",
    "        else: \n",
    "            print(\"Error: element {} not recognized\".format(ky))\n",
    "            exit()\n",
    "        \n",
    "    # Perform the simulation\n",
    "    sol = solve_ivp(circuit_dyn_eqs, [0, t_sim], [0, 0], args=(sim_params,), \n",
    "                    dense_output=True)\n",
    "    \n",
    "    # Save the results\n",
    "    t = np.linspace(0, t_sim, t_points)\n",
    "    P2_t = sol.sol(t)[1]\n",
    "\n",
    "    # If you want to print some curves, don't make N very large\n",
    "    # P1_t = sol.sol(t)[0]\n",
    "    # plt.plot(t, P2_t)\n",
    "    # plt.plot(t, P1_t)\n",
    "    # plt.show()\n",
    "\n",
    "    # Calculate viscosity from P2_t\n",
    "    est_visc = estimate_visc(t, P2_t, sim_params[\"R2\"], sim_params[\"C2\"], visc)\n",
    "\n",
    "    # Update the results dict\n",
    "    for ky in ranges_dict.keys():\n",
    "        results[ky.split(\"_\")[0]].append( sim_params[ky.split(\"_\")[0]] )\n",
    "    results[\"est_visc\"].append(est_visc)\n",
    "\n",
    "res_df = pd.DataFrame.from_dict(results)"
   ]
  },
  {
   "cell_type": "code",
   "execution_count": 7,
   "metadata": {},
   "outputs": [
    {
     "name": "stdout",
     "output_type": "stream",
     "text": [
      "Real viscosity: 0.0008773859312223907\n",
      "Mean values:\n",
      "R0          1.429917e+11\n",
      "R1          7.061317e+12\n",
      "C1          2.125101e-14\n",
      "R2          7.061317e+12\n",
      "C2          8.390147e-14\n",
      "est_visc    8.890848e-04\n",
      "dtype: float64\n",
      "Standard Deviation values:\n",
      "R0          3.052063e-05\n",
      "R1          0.000000e+00\n",
      "C1          7.256912e-15\n",
      "R2          0.000000e+00\n",
      "C2          0.000000e+00\n",
      "est_visc    7.390379e-06\n",
      "dtype: float64\n"
     ]
    }
   ],
   "source": [
    "print(\"Real viscosity: {}\".format(visc))\n",
    "\n",
    "# print(res_df)\n",
    "\n",
    "print(\"Mean values:\")\n",
    "print(res_df.mean())\n",
    "\n",
    "print(\"Standard Deviation values:\")\n",
    "print(res_df.std())"
   ]
  }
 ],
 "metadata": {
  "kernelspec": {
   "display_name": "Python 3",
   "language": "python",
   "name": "python3"
  },
  "language_info": {
   "codemirror_mode": {
    "name": "ipython",
    "version": 3
   },
   "file_extension": ".py",
   "mimetype": "text/x-python",
   "name": "python",
   "nbconvert_exporter": "python",
   "pygments_lexer": "ipython3",
   "version": "3.10.0"
  }
 },
 "nbformat": 4,
 "nbformat_minor": 2
}
